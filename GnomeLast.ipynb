{
 "cells": [
  {
   "cell_type": "code",
   "execution_count": 1,
   "metadata": {},
   "outputs": [
    {
     "name": "stdout",
     "output_type": "stream",
     "text": [
      "pygame 1.9.6\n",
      "Hello from the pygame community. https://www.pygame.org/contribute.html\n"
     ]
    }
   ],
   "source": [
    "from core import Game"
   ]
  },
  {
   "cell_type": "code",
   "execution_count": 2,
   "metadata": {},
   "outputs": [],
   "source": [
    "env = Game()"
   ]
  },
  {
   "cell_type": "code",
   "execution_count": 3,
   "metadata": {
    "scrolled": true
   },
   "outputs": [],
   "source": [
    "# env.get_state(True)"
   ]
  },
  {
   "cell_type": "code",
   "execution_count": 4,
   "metadata": {
    "scrolled": true
   },
   "outputs": [
    {
     "data": {
      "text/plain": [
       "[[-1, -1, -1, -1, -1],\n",
       " [-1, -1, -1, -1, -1],\n",
       " [-1, -1, 1, 0, 0],\n",
       " [-1, -1, 0, 0, 0],\n",
       " [-1, -1, 0, 0, 0]]"
      ]
     },
     "execution_count": 4,
     "metadata": {},
     "output_type": "execute_result"
    }
   ],
   "source": [
    "env.get_gnome_vision()"
   ]
  },
  {
   "cell_type": "code",
   "execution_count": 5,
   "metadata": {},
   "outputs": [],
   "source": [
    "env.scan_map()"
   ]
  },
  {
   "cell_type": "code",
   "execution_count": 6,
   "metadata": {
    "scrolled": false
   },
   "outputs": [
    {
     "data": {
      "text/plain": [
       "[{'x': -2, 'y': -2, 'v': -1},\n",
       " {'x': -1, 'y': -2, 'v': -1},\n",
       " {'x': 0, 'y': -2, 'v': -1},\n",
       " {'x': 1, 'y': -2, 'v': -1},\n",
       " {'x': 2, 'y': -2, 'v': -1},\n",
       " {'x': -2, 'y': -1, 'v': -1},\n",
       " {'x': -1, 'y': -1, 'v': -1},\n",
       " {'x': 0, 'y': -1, 'v': -1},\n",
       " {'x': 1, 'y': -1, 'v': -1},\n",
       " {'x': 2, 'y': -1, 'v': -1},\n",
       " {'x': -2, 'y': 0, 'v': -1},\n",
       " {'x': -1, 'y': 0, 'v': -1},\n",
       " {'x': 0, 'y': 0, 'v': -1},\n",
       " {'x': 1, 'y': 0, 'v': -1},\n",
       " {'x': 2, 'y': 0, 'v': -1},\n",
       " {'x': -2, 'y': 1, 'v': -1},\n",
       " {'x': -1, 'y': 1, 'v': -1},\n",
       " {'x': 0, 'y': 1, 'v': -1},\n",
       " {'x': 1, 'y': 1, 'v': -1},\n",
       " {'x': 2, 'y': 1, 'v': -1},\n",
       " {'x': -2, 'y': 2, 'v': -1},\n",
       " {'x': -1, 'y': 2, 'v': -1},\n",
       " {'x': 0, 'y': 2, 'v': -1},\n",
       " {'x': 1, 'y': 2, 'v': -1},\n",
       " {'x': 2, 'y': 2, 'v': 1}]"
      ]
     },
     "execution_count": 6,
     "metadata": {},
     "output_type": "execute_result"
    }
   ],
   "source": [
    "env.get_scanned_map()"
   ]
  },
  {
   "cell_type": "code",
   "execution_count": 7,
   "metadata": {},
   "outputs": [
    {
     "data": {
      "text/plain": [
       "25"
      ]
     },
     "execution_count": 7,
     "metadata": {},
     "output_type": "execute_result"
    }
   ],
   "source": [
    "len(env.get_scanned_map())"
   ]
  },
  {
   "cell_type": "code",
   "execution_count": 8,
   "metadata": {},
   "outputs": [
    {
     "data": {
      "text/plain": [
       "[[-1, -1, -1, -1, -1],\n",
       " [-1, -1, -1, -1, -1],\n",
       " [-1, 0, 1, 0, 0],\n",
       " [-1, 0, 0, 0, 0],\n",
       " [-1, 0, 0, 0, 0]]"
      ]
     },
     "execution_count": 8,
     "metadata": {},
     "output_type": "execute_result"
    }
   ],
   "source": [
    "env.step(2)"
   ]
  },
  {
   "cell_type": "code",
   "execution_count": 9,
   "metadata": {},
   "outputs": [
    {
     "data": {
      "text/plain": [
       "[{'x': -2, 'y': -2, 'v': -1},\n",
       " {'x': -1, 'y': -2, 'v': -1},\n",
       " {'x': 0, 'y': -2, 'v': -1},\n",
       " {'x': 1, 'y': -2, 'v': -1},\n",
       " {'x': 2, 'y': -2, 'v': -1},\n",
       " {'x': -2, 'y': -1, 'v': -1},\n",
       " {'x': -1, 'y': -1, 'v': -1},\n",
       " {'x': 0, 'y': -1, 'v': -1},\n",
       " {'x': 1, 'y': -1, 'v': -1},\n",
       " {'x': 2, 'y': -1, 'v': -1},\n",
       " {'x': -2, 'y': 0, 'v': -1},\n",
       " {'x': -1, 'y': 0, 'v': -1},\n",
       " {'x': 0, 'y': 0, 'v': -1},\n",
       " {'x': 1, 'y': 0, 'v': -1},\n",
       " {'x': 2, 'y': 0, 'v': -1},\n",
       " {'x': -2, 'y': 1, 'v': -1},\n",
       " {'x': -1, 'y': 1, 'v': -1},\n",
       " {'x': 0, 'y': 1, 'v': -1},\n",
       " {'x': 1, 'y': 1, 'v': -1},\n",
       " {'x': 2, 'y': 1, 'v': -1},\n",
       " {'x': -2, 'y': 2, 'v': -1},\n",
       " {'x': -1, 'y': 2, 'v': -1},\n",
       " {'x': 0, 'y': 2, 'v': -1},\n",
       " {'x': 1, 'y': 2, 'v': -1},\n",
       " {'x': 2, 'y': 2, 'v': 1},\n",
       " {'x': 3, 'y': -2, 'v': -1},\n",
       " {'x': 3, 'y': -1, 'v': -1},\n",
       " {'x': 3, 'y': 0, 'v': -1},\n",
       " {'x': 3, 'y': 1, 'v': -1},\n",
       " {'x': 3, 'y': 2, 'v': 1}]"
      ]
     },
     "execution_count": 9,
     "metadata": {},
     "output_type": "execute_result"
    }
   ],
   "source": [
    "env.get_scanned_map()"
   ]
  },
  {
   "cell_type": "code",
   "execution_count": 10,
   "metadata": {},
   "outputs": [
    {
     "data": {
      "text/plain": [
       "30"
      ]
     },
     "execution_count": 10,
     "metadata": {},
     "output_type": "execute_result"
    }
   ],
   "source": [
    "len(env.get_scanned_map())"
   ]
  },
  {
   "cell_type": "code",
   "execution_count": 11,
   "metadata": {},
   "outputs": [
    {
     "data": {
      "text/plain": [
       "[[-1, -1, -1, -1, -1],\n",
       " [-1, 0, 0, 0, 0],\n",
       " [-1, 0, 1, 0, 0],\n",
       " [-1, 0, 0, 0, 0],\n",
       " [-1, 0, 0, 0, 0]]"
      ]
     },
     "execution_count": 11,
     "metadata": {},
     "output_type": "execute_result"
    }
   ],
   "source": [
    "env.step(3)"
   ]
  },
  {
   "cell_type": "code",
   "execution_count": 12,
   "metadata": {},
   "outputs": [
    {
     "data": {
      "text/plain": [
       "35"
      ]
     },
     "execution_count": 12,
     "metadata": {},
     "output_type": "execute_result"
    }
   ],
   "source": [
    "len(env.get_scanned_map())"
   ]
  },
  {
   "cell_type": "code",
   "execution_count": 13,
   "metadata": {},
   "outputs": [
    {
     "data": {
      "text/plain": [
       "[[-1, -1, -1, -1, -1],\n",
       " [-1, -1, -1, -1, -1],\n",
       " [-1, 0, 1, 0, 0],\n",
       " [-1, 0, 0, 0, 0],\n",
       " [-1, 0, 0, 0, 0]]"
      ]
     },
     "execution_count": 13,
     "metadata": {},
     "output_type": "execute_result"
    }
   ],
   "source": [
    "env.step(1)"
   ]
  },
  {
   "cell_type": "code",
   "execution_count": null,
   "metadata": {},
   "outputs": [],
   "source": [
    "env.play()"
   ]
  },
  {
   "cell_type": "code",
   "execution_count": null,
   "metadata": {},
   "outputs": [],
   "source": []
  }
 ],
 "metadata": {
  "kernelspec": {
   "display_name": "Python 3",
   "language": "python",
   "name": "python3"
  },
  "language_info": {
   "codemirror_mode": {
    "name": "ipython",
    "version": 3
   },
   "file_extension": ".py",
   "mimetype": "text/x-python",
   "name": "python",
   "nbconvert_exporter": "python",
   "pygments_lexer": "ipython3",
   "version": "3.7.4"
  }
 },
 "nbformat": 4,
 "nbformat_minor": 2
}
